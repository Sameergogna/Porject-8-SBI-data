{
 "cells": [
  {
   "cell_type": "code",
   "execution_count": 65,
   "id": "ce0ceaf3",
   "metadata": {},
   "outputs": [],
   "source": [
    "import pandas as pd\n",
    "import numpy as np\n",
    "import matplotlib.pyplot as plt\n",
    "import seaborn as sns\n",
    "import statsmodels.tsa.api as smt\n"
   ]
  },
  {
   "cell_type": "code",
   "execution_count": 66,
   "id": "52eb2790",
   "metadata": {},
   "outputs": [],
   "source": [
    "data=pd.read_csv(r\"D:\\Sameer\\Sameer IMARTICUS\\Machine Learning\\Time Series\\Exam\\SBI_Historical_Data.csv\")"
   ]
  },
  {
   "cell_type": "code",
   "execution_count": 67,
   "id": "28abfa0b",
   "metadata": {},
   "outputs": [
    {
     "data": {
      "text/html": [
       "<div>\n",
       "<style scoped>\n",
       "    .dataframe tbody tr th:only-of-type {\n",
       "        vertical-align: middle;\n",
       "    }\n",
       "\n",
       "    .dataframe tbody tr th {\n",
       "        vertical-align: top;\n",
       "    }\n",
       "\n",
       "    .dataframe thead th {\n",
       "        text-align: right;\n",
       "    }\n",
       "</style>\n",
       "<table border=\"1\" class=\"dataframe\">\n",
       "  <thead>\n",
       "    <tr style=\"text-align: right;\">\n",
       "      <th></th>\n",
       "      <th>Date</th>\n",
       "      <th>Price</th>\n",
       "      <th>Open</th>\n",
       "      <th>High</th>\n",
       "      <th>Low</th>\n",
       "      <th>Vol.</th>\n",
       "      <th>Change %</th>\n",
       "    </tr>\n",
       "  </thead>\n",
       "  <tbody>\n",
       "    <tr>\n",
       "      <th>0</th>\n",
       "      <td>Aug 07, 2020</td>\n",
       "      <td>190.65</td>\n",
       "      <td>191.45</td>\n",
       "      <td>192.10</td>\n",
       "      <td>189.55</td>\n",
       "      <td>44.82M</td>\n",
       "      <td>-0.16%</td>\n",
       "    </tr>\n",
       "    <tr>\n",
       "      <th>1</th>\n",
       "      <td>Aug 06, 2020</td>\n",
       "      <td>190.95</td>\n",
       "      <td>192.30</td>\n",
       "      <td>194.50</td>\n",
       "      <td>190.25</td>\n",
       "      <td>59.74M</td>\n",
       "      <td>-0.26%</td>\n",
       "    </tr>\n",
       "    <tr>\n",
       "      <th>2</th>\n",
       "      <td>Aug 05, 2020</td>\n",
       "      <td>191.45</td>\n",
       "      <td>192.75</td>\n",
       "      <td>196.85</td>\n",
       "      <td>191.00</td>\n",
       "      <td>68.89M</td>\n",
       "      <td>-0.08%</td>\n",
       "    </tr>\n",
       "    <tr>\n",
       "      <th>3</th>\n",
       "      <td>Aug 04, 2020</td>\n",
       "      <td>191.60</td>\n",
       "      <td>193.35</td>\n",
       "      <td>193.80</td>\n",
       "      <td>190.50</td>\n",
       "      <td>43.87M</td>\n",
       "      <td>-0.34%</td>\n",
       "    </tr>\n",
       "    <tr>\n",
       "      <th>4</th>\n",
       "      <td>Aug 03, 2020</td>\n",
       "      <td>192.25</td>\n",
       "      <td>192.00</td>\n",
       "      <td>194.60</td>\n",
       "      <td>190.05</td>\n",
       "      <td>72.46M</td>\n",
       "      <td>0.42%</td>\n",
       "    </tr>\n",
       "    <tr>\n",
       "      <th>...</th>\n",
       "      <td>...</td>\n",
       "      <td>...</td>\n",
       "      <td>...</td>\n",
       "      <td>...</td>\n",
       "      <td>...</td>\n",
       "      <td>...</td>\n",
       "      <td>...</td>\n",
       "    </tr>\n",
       "    <tr>\n",
       "      <th>1380</th>\n",
       "      <td>Jan 07, 2015</td>\n",
       "      <td>300.15</td>\n",
       "      <td>300.00</td>\n",
       "      <td>302.55</td>\n",
       "      <td>295.15</td>\n",
       "      <td>15.05M</td>\n",
       "      <td>0.08%</td>\n",
       "    </tr>\n",
       "    <tr>\n",
       "      <th>1381</th>\n",
       "      <td>Jan 06, 2015</td>\n",
       "      <td>299.90</td>\n",
       "      <td>310.00</td>\n",
       "      <td>311.10</td>\n",
       "      <td>298.70</td>\n",
       "      <td>15.33M</td>\n",
       "      <td>-4.11%</td>\n",
       "    </tr>\n",
       "    <tr>\n",
       "      <th>1382</th>\n",
       "      <td>Jan 05, 2015</td>\n",
       "      <td>312.75</td>\n",
       "      <td>316.25</td>\n",
       "      <td>316.80</td>\n",
       "      <td>312.10</td>\n",
       "      <td>9.14M</td>\n",
       "      <td>-0.79%</td>\n",
       "    </tr>\n",
       "    <tr>\n",
       "      <th>1383</th>\n",
       "      <td>Jan 02, 2015</td>\n",
       "      <td>315.25</td>\n",
       "      <td>314.35</td>\n",
       "      <td>318.30</td>\n",
       "      <td>314.35</td>\n",
       "      <td>9.94M</td>\n",
       "      <td>0.40%</td>\n",
       "    </tr>\n",
       "    <tr>\n",
       "      <th>1384</th>\n",
       "      <td>Jan 01, 2015</td>\n",
       "      <td>314.00</td>\n",
       "      <td>312.45</td>\n",
       "      <td>315.00</td>\n",
       "      <td>310.70</td>\n",
       "      <td>6.14M</td>\n",
       "      <td>0.69%</td>\n",
       "    </tr>\n",
       "  </tbody>\n",
       "</table>\n",
       "<p>1385 rows × 7 columns</p>\n",
       "</div>"
      ],
      "text/plain": [
       "              Date   Price    Open    High     Low    Vol. Change %\n",
       "0     Aug 07, 2020  190.65  191.45  192.10  189.55  44.82M   -0.16%\n",
       "1     Aug 06, 2020  190.95  192.30  194.50  190.25  59.74M   -0.26%\n",
       "2     Aug 05, 2020  191.45  192.75  196.85  191.00  68.89M   -0.08%\n",
       "3     Aug 04, 2020  191.60  193.35  193.80  190.50  43.87M   -0.34%\n",
       "4     Aug 03, 2020  192.25  192.00  194.60  190.05  72.46M    0.42%\n",
       "...            ...     ...     ...     ...     ...     ...      ...\n",
       "1380  Jan 07, 2015  300.15  300.00  302.55  295.15  15.05M    0.08%\n",
       "1381  Jan 06, 2015  299.90  310.00  311.10  298.70  15.33M   -4.11%\n",
       "1382  Jan 05, 2015  312.75  316.25  316.80  312.10   9.14M   -0.79%\n",
       "1383  Jan 02, 2015  315.25  314.35  318.30  314.35   9.94M    0.40%\n",
       "1384  Jan 01, 2015  314.00  312.45  315.00  310.70   6.14M    0.69%\n",
       "\n",
       "[1385 rows x 7 columns]"
      ]
     },
     "execution_count": 67,
     "metadata": {},
     "output_type": "execute_result"
    }
   ],
   "source": [
    "data"
   ]
  },
  {
   "cell_type": "code",
   "execution_count": 68,
   "id": "e0ff270e",
   "metadata": {},
   "outputs": [
    {
     "name": "stdout",
     "output_type": "stream",
     "text": [
      "<class 'pandas.core.frame.DataFrame'>\n",
      "RangeIndex: 1385 entries, 0 to 1384\n",
      "Data columns (total 7 columns):\n",
      " #   Column    Non-Null Count  Dtype  \n",
      "---  ------    --------------  -----  \n",
      " 0   Date      1385 non-null   object \n",
      " 1   Price     1385 non-null   float64\n",
      " 2   Open      1385 non-null   float64\n",
      " 3   High      1385 non-null   float64\n",
      " 4   Low       1385 non-null   float64\n",
      " 5   Vol.      1385 non-null   object \n",
      " 6   Change %  1385 non-null   object \n",
      "dtypes: float64(4), object(3)\n",
      "memory usage: 75.9+ KB\n"
     ]
    }
   ],
   "source": [
    "data.info()"
   ]
  },
  {
   "cell_type": "markdown",
   "id": "cdd5bc45",
   "metadata": {},
   "source": [
    "# Q1"
   ]
  },
  {
   "cell_type": "code",
   "execution_count": 69,
   "id": "ba42fef9",
   "metadata": {},
   "outputs": [
    {
     "data": {
      "text/plain": [
       "(1385, 7)"
      ]
     },
     "execution_count": 69,
     "metadata": {},
     "output_type": "execute_result"
    }
   ],
   "source": [
    "#Dimensions of data set\n",
    "data.shape"
   ]
  },
  {
   "cell_type": "code",
   "execution_count": 70,
   "id": "b646c922",
   "metadata": {},
   "outputs": [
    {
     "data": {
      "text/html": [
       "<div>\n",
       "<style scoped>\n",
       "    .dataframe tbody tr th:only-of-type {\n",
       "        vertical-align: middle;\n",
       "    }\n",
       "\n",
       "    .dataframe tbody tr th {\n",
       "        vertical-align: top;\n",
       "    }\n",
       "\n",
       "    .dataframe thead th {\n",
       "        text-align: right;\n",
       "    }\n",
       "</style>\n",
       "<table border=\"1\" class=\"dataframe\">\n",
       "  <thead>\n",
       "    <tr style=\"text-align: right;\">\n",
       "      <th></th>\n",
       "      <th>count</th>\n",
       "      <th>mean</th>\n",
       "      <th>std</th>\n",
       "      <th>min</th>\n",
       "      <th>1%</th>\n",
       "      <th>2%</th>\n",
       "      <th>5%</th>\n",
       "      <th>10%</th>\n",
       "      <th>25%</th>\n",
       "      <th>50%</th>\n",
       "      <th>75%</th>\n",
       "      <th>90%</th>\n",
       "      <th>95%</th>\n",
       "      <th>96%</th>\n",
       "      <th>98%</th>\n",
       "      <th>99%</th>\n",
       "      <th>max</th>\n",
       "    </tr>\n",
       "  </thead>\n",
       "  <tbody>\n",
       "    <tr>\n",
       "      <th>Price</th>\n",
       "      <td>1385.0</td>\n",
       "      <td>266.274404</td>\n",
       "      <td>45.555277</td>\n",
       "      <td>150.85</td>\n",
       "      <td>158.584</td>\n",
       "      <td>166.820</td>\n",
       "      <td>180.58</td>\n",
       "      <td>189.18</td>\n",
       "      <td>245.65</td>\n",
       "      <td>270.80</td>\n",
       "      <td>296.15</td>\n",
       "      <td>319.64</td>\n",
       "      <td>333.74</td>\n",
       "      <td>337.532</td>\n",
       "      <td>349.864</td>\n",
       "      <td>360.050</td>\n",
       "      <td>372.40</td>\n",
       "    </tr>\n",
       "    <tr>\n",
       "      <th>Open</th>\n",
       "      <td>1385.0</td>\n",
       "      <td>266.903213</td>\n",
       "      <td>45.590664</td>\n",
       "      <td>151.95</td>\n",
       "      <td>158.872</td>\n",
       "      <td>167.950</td>\n",
       "      <td>181.65</td>\n",
       "      <td>190.20</td>\n",
       "      <td>245.90</td>\n",
       "      <td>271.15</td>\n",
       "      <td>296.50</td>\n",
       "      <td>319.96</td>\n",
       "      <td>334.94</td>\n",
       "      <td>337.878</td>\n",
       "      <td>350.384</td>\n",
       "      <td>358.828</td>\n",
       "      <td>371.95</td>\n",
       "    </tr>\n",
       "    <tr>\n",
       "      <th>High</th>\n",
       "      <td>1385.0</td>\n",
       "      <td>270.343682</td>\n",
       "      <td>45.829745</td>\n",
       "      <td>153.20</td>\n",
       "      <td>163.572</td>\n",
       "      <td>169.936</td>\n",
       "      <td>184.44</td>\n",
       "      <td>193.88</td>\n",
       "      <td>248.80</td>\n",
       "      <td>274.60</td>\n",
       "      <td>300.75</td>\n",
       "      <td>324.48</td>\n",
       "      <td>337.95</td>\n",
       "      <td>343.552</td>\n",
       "      <td>355.464</td>\n",
       "      <td>363.160</td>\n",
       "      <td>373.80</td>\n",
       "    </tr>\n",
       "    <tr>\n",
       "      <th>Low</th>\n",
       "      <td>1385.0</td>\n",
       "      <td>262.757906</td>\n",
       "      <td>45.248334</td>\n",
       "      <td>148.25</td>\n",
       "      <td>155.284</td>\n",
       "      <td>163.588</td>\n",
       "      <td>178.02</td>\n",
       "      <td>186.02</td>\n",
       "      <td>242.55</td>\n",
       "      <td>267.40</td>\n",
       "      <td>292.20</td>\n",
       "      <td>315.40</td>\n",
       "      <td>330.77</td>\n",
       "      <td>333.350</td>\n",
       "      <td>344.548</td>\n",
       "      <td>355.390</td>\n",
       "      <td>366.20</td>\n",
       "    </tr>\n",
       "  </tbody>\n",
       "</table>\n",
       "</div>"
      ],
      "text/plain": [
       "        count        mean        std     min       1%       2%      5%  \\\n",
       "Price  1385.0  266.274404  45.555277  150.85  158.584  166.820  180.58   \n",
       "Open   1385.0  266.903213  45.590664  151.95  158.872  167.950  181.65   \n",
       "High   1385.0  270.343682  45.829745  153.20  163.572  169.936  184.44   \n",
       "Low    1385.0  262.757906  45.248334  148.25  155.284  163.588  178.02   \n",
       "\n",
       "          10%     25%     50%     75%     90%     95%      96%      98%  \\\n",
       "Price  189.18  245.65  270.80  296.15  319.64  333.74  337.532  349.864   \n",
       "Open   190.20  245.90  271.15  296.50  319.96  334.94  337.878  350.384   \n",
       "High   193.88  248.80  274.60  300.75  324.48  337.95  343.552  355.464   \n",
       "Low    186.02  242.55  267.40  292.20  315.40  330.77  333.350  344.548   \n",
       "\n",
       "           99%     max  \n",
       "Price  360.050  372.40  \n",
       "Open   358.828  371.95  \n",
       "High   363.160  373.80  \n",
       "Low    355.390  366.20  "
      ]
     },
     "execution_count": 70,
     "metadata": {},
     "output_type": "execute_result"
    }
   ],
   "source": [
    "# Statistical summary\n",
    "data.describe(percentiles=[0.01,0.02,0.05,0.1,0.25,0.5,0.75,0.9,0.95,0.96,0.98,0.99]).T"
   ]
  },
  {
   "cell_type": "code",
   "execution_count": 71,
   "id": "6bcc4520",
   "metadata": {},
   "outputs": [],
   "source": [
    "data.sort_values('Date',inplace=True)"
   ]
  },
  {
   "cell_type": "code",
   "execution_count": 72,
   "id": "caa76081",
   "metadata": {},
   "outputs": [
    {
     "data": {
      "text/html": [
       "<div>\n",
       "<style scoped>\n",
       "    .dataframe tbody tr th:only-of-type {\n",
       "        vertical-align: middle;\n",
       "    }\n",
       "\n",
       "    .dataframe tbody tr th {\n",
       "        vertical-align: top;\n",
       "    }\n",
       "\n",
       "    .dataframe thead th {\n",
       "        text-align: right;\n",
       "    }\n",
       "</style>\n",
       "<table border=\"1\" class=\"dataframe\">\n",
       "  <thead>\n",
       "    <tr style=\"text-align: right;\">\n",
       "      <th></th>\n",
       "      <th>Date</th>\n",
       "      <th>Price</th>\n",
       "      <th>Open</th>\n",
       "      <th>High</th>\n",
       "      <th>Low</th>\n",
       "      <th>Vol.</th>\n",
       "      <th>Change %</th>\n",
       "    </tr>\n",
       "  </thead>\n",
       "  <tbody>\n",
       "    <tr>\n",
       "      <th>1322</th>\n",
       "      <td>Apr 01, 2015</td>\n",
       "      <td>273.45</td>\n",
       "      <td>266.65</td>\n",
       "      <td>274.65</td>\n",
       "      <td>263.15</td>\n",
       "      <td>12.38M</td>\n",
       "      <td>2.40%</td>\n",
       "    </tr>\n",
       "    <tr>\n",
       "      <th>1075</th>\n",
       "      <td>Apr 01, 2016</td>\n",
       "      <td>195.65</td>\n",
       "      <td>193.70</td>\n",
       "      <td>197.25</td>\n",
       "      <td>192.00</td>\n",
       "      <td>21.75M</td>\n",
       "      <td>0.72%</td>\n",
       "    </tr>\n",
       "    <tr>\n",
       "      <th>333</th>\n",
       "      <td>Apr 01, 2019</td>\n",
       "      <td>322.75</td>\n",
       "      <td>321.80</td>\n",
       "      <td>327.65</td>\n",
       "      <td>321.05</td>\n",
       "      <td>22.37M</td>\n",
       "      <td>0.62%</td>\n",
       "    </tr>\n",
       "    <tr>\n",
       "      <th>86</th>\n",
       "      <td>Apr 01, 2020</td>\n",
       "      <td>186.55</td>\n",
       "      <td>194.00</td>\n",
       "      <td>194.50</td>\n",
       "      <td>185.25</td>\n",
       "      <td>52.95M</td>\n",
       "      <td>-5.23%</td>\n",
       "    </tr>\n",
       "    <tr>\n",
       "      <th>581</th>\n",
       "      <td>Apr 02, 2018</td>\n",
       "      <td>246.15</td>\n",
       "      <td>251.80</td>\n",
       "      <td>252.00</td>\n",
       "      <td>244.90</td>\n",
       "      <td>14.99M</td>\n",
       "      <td>-1.50%</td>\n",
       "    </tr>\n",
       "    <tr>\n",
       "      <th>...</th>\n",
       "      <td>...</td>\n",
       "      <td>...</td>\n",
       "      <td>...</td>\n",
       "      <td>...</td>\n",
       "      <td>...</td>\n",
       "      <td>...</td>\n",
       "      <td>...</td>\n",
       "    </tr>\n",
       "    <tr>\n",
       "      <th>953</th>\n",
       "      <td>Sep 29, 2016</td>\n",
       "      <td>247.25</td>\n",
       "      <td>255.00</td>\n",
       "      <td>256.75</td>\n",
       "      <td>243.50</td>\n",
       "      <td>27.87M</td>\n",
       "      <td>-2.56%</td>\n",
       "    </tr>\n",
       "    <tr>\n",
       "      <th>704</th>\n",
       "      <td>Sep 29, 2017</td>\n",
       "      <td>253.85</td>\n",
       "      <td>254.70</td>\n",
       "      <td>255.50</td>\n",
       "      <td>253.05</td>\n",
       "      <td>10.07M</td>\n",
       "      <td>0.51%</td>\n",
       "    </tr>\n",
       "    <tr>\n",
       "      <th>1198</th>\n",
       "      <td>Sep 30, 2015</td>\n",
       "      <td>237.15</td>\n",
       "      <td>244.85</td>\n",
       "      <td>245.40</td>\n",
       "      <td>235.70</td>\n",
       "      <td>17.01M</td>\n",
       "      <td>-1.96%</td>\n",
       "    </tr>\n",
       "    <tr>\n",
       "      <th>952</th>\n",
       "      <td>Sep 30, 2016</td>\n",
       "      <td>251.25</td>\n",
       "      <td>246.85</td>\n",
       "      <td>252.50</td>\n",
       "      <td>245.80</td>\n",
       "      <td>14.83M</td>\n",
       "      <td>1.62%</td>\n",
       "    </tr>\n",
       "    <tr>\n",
       "      <th>212</th>\n",
       "      <td>Sep 30, 2019</td>\n",
       "      <td>270.80</td>\n",
       "      <td>281.40</td>\n",
       "      <td>281.85</td>\n",
       "      <td>270.15</td>\n",
       "      <td>41.09M</td>\n",
       "      <td>-3.70%</td>\n",
       "    </tr>\n",
       "  </tbody>\n",
       "</table>\n",
       "<p>1385 rows × 7 columns</p>\n",
       "</div>"
      ],
      "text/plain": [
       "              Date   Price    Open    High     Low    Vol. Change %\n",
       "1322  Apr 01, 2015  273.45  266.65  274.65  263.15  12.38M    2.40%\n",
       "1075  Apr 01, 2016  195.65  193.70  197.25  192.00  21.75M    0.72%\n",
       "333   Apr 01, 2019  322.75  321.80  327.65  321.05  22.37M    0.62%\n",
       "86    Apr 01, 2020  186.55  194.00  194.50  185.25  52.95M   -5.23%\n",
       "581   Apr 02, 2018  246.15  251.80  252.00  244.90  14.99M   -1.50%\n",
       "...            ...     ...     ...     ...     ...     ...      ...\n",
       "953   Sep 29, 2016  247.25  255.00  256.75  243.50  27.87M   -2.56%\n",
       "704   Sep 29, 2017  253.85  254.70  255.50  253.05  10.07M    0.51%\n",
       "1198  Sep 30, 2015  237.15  244.85  245.40  235.70  17.01M   -1.96%\n",
       "952   Sep 30, 2016  251.25  246.85  252.50  245.80  14.83M    1.62%\n",
       "212   Sep 30, 2019  270.80  281.40  281.85  270.15  41.09M   -3.70%\n",
       "\n",
       "[1385 rows x 7 columns]"
      ]
     },
     "execution_count": 72,
     "metadata": {},
     "output_type": "execute_result"
    }
   ],
   "source": [
    "data"
   ]
  },
  {
   "cell_type": "code",
   "execution_count": 73,
   "id": "622ee6ab",
   "metadata": {},
   "outputs": [],
   "source": [
    "data[\"Date\"]=pd.to_datetime(data[\"Date\"])"
   ]
  },
  {
   "cell_type": "code",
   "execution_count": 74,
   "id": "32af7fc3",
   "metadata": {},
   "outputs": [
    {
     "data": {
      "text/plain": [
       "Date        0\n",
       "Price       0\n",
       "Open        0\n",
       "High        0\n",
       "Low         0\n",
       "Vol.        0\n",
       "Change %    0\n",
       "dtype: int64"
      ]
     },
     "execution_count": 74,
     "metadata": {},
     "output_type": "execute_result"
    }
   ],
   "source": [
    "#checking Missing Values\n",
    "data.isna().sum()"
   ]
  },
  {
   "cell_type": "code",
   "execution_count": 75,
   "id": "7dc8e5aa",
   "metadata": {},
   "outputs": [
    {
     "data": {
      "text/plain": [
       "Date        datetime64[ns]\n",
       "Price              float64\n",
       "Open               float64\n",
       "High               float64\n",
       "Low                float64\n",
       "Vol.                object\n",
       "Change %            object\n",
       "dtype: object"
      ]
     },
     "execution_count": 75,
     "metadata": {},
     "output_type": "execute_result"
    }
   ],
   "source": [
    "#checking data type\n",
    "data.dtypes"
   ]
  },
  {
   "cell_type": "code",
   "execution_count": 76,
   "id": "733bdddb",
   "metadata": {},
   "outputs": [
    {
     "name": "stdout",
     "output_type": "stream",
     "text": [
      "min- 2015-01-01 00:00:00\n",
      "max- 2020-08-07 00:00:00\n"
     ]
    }
   ],
   "source": [
    "print('min-',data[\"Date\"].min())\n",
    "print('max-',data[\"Date\"].max())\n"
   ]
  },
  {
   "cell_type": "code",
   "execution_count": 77,
   "id": "962b28b4",
   "metadata": {},
   "outputs": [],
   "source": [
    "data = data.set_index('Date')"
   ]
  },
  {
   "cell_type": "code",
   "execution_count": 78,
   "id": "5c833491",
   "metadata": {},
   "outputs": [],
   "source": [
    "#keeping date and price columns \n",
    "data.drop(['Open','High','Low','Vol.','Change %'],axis=1,inplace=True)"
   ]
  },
  {
   "cell_type": "code",
   "execution_count": 79,
   "id": "33ff7daf",
   "metadata": {},
   "outputs": [
    {
     "data": {
      "text/html": [
       "<div>\n",
       "<style scoped>\n",
       "    .dataframe tbody tr th:only-of-type {\n",
       "        vertical-align: middle;\n",
       "    }\n",
       "\n",
       "    .dataframe tbody tr th {\n",
       "        vertical-align: top;\n",
       "    }\n",
       "\n",
       "    .dataframe thead th {\n",
       "        text-align: right;\n",
       "    }\n",
       "</style>\n",
       "<table border=\"1\" class=\"dataframe\">\n",
       "  <thead>\n",
       "    <tr style=\"text-align: right;\">\n",
       "      <th></th>\n",
       "      <th>Price</th>\n",
       "    </tr>\n",
       "    <tr>\n",
       "      <th>Date</th>\n",
       "      <th></th>\n",
       "    </tr>\n",
       "  </thead>\n",
       "  <tbody>\n",
       "    <tr>\n",
       "      <th>2015-04-01</th>\n",
       "      <td>273.45</td>\n",
       "    </tr>\n",
       "    <tr>\n",
       "      <th>2016-04-01</th>\n",
       "      <td>195.65</td>\n",
       "    </tr>\n",
       "    <tr>\n",
       "      <th>2019-04-01</th>\n",
       "      <td>322.75</td>\n",
       "    </tr>\n",
       "    <tr>\n",
       "      <th>2020-04-01</th>\n",
       "      <td>186.55</td>\n",
       "    </tr>\n",
       "    <tr>\n",
       "      <th>2018-04-02</th>\n",
       "      <td>246.15</td>\n",
       "    </tr>\n",
       "    <tr>\n",
       "      <th>...</th>\n",
       "      <td>...</td>\n",
       "    </tr>\n",
       "    <tr>\n",
       "      <th>2016-09-29</th>\n",
       "      <td>247.25</td>\n",
       "    </tr>\n",
       "    <tr>\n",
       "      <th>2017-09-29</th>\n",
       "      <td>253.85</td>\n",
       "    </tr>\n",
       "    <tr>\n",
       "      <th>2015-09-30</th>\n",
       "      <td>237.15</td>\n",
       "    </tr>\n",
       "    <tr>\n",
       "      <th>2016-09-30</th>\n",
       "      <td>251.25</td>\n",
       "    </tr>\n",
       "    <tr>\n",
       "      <th>2019-09-30</th>\n",
       "      <td>270.80</td>\n",
       "    </tr>\n",
       "  </tbody>\n",
       "</table>\n",
       "<p>1385 rows × 1 columns</p>\n",
       "</div>"
      ],
      "text/plain": [
       "             Price\n",
       "Date              \n",
       "2015-04-01  273.45\n",
       "2016-04-01  195.65\n",
       "2019-04-01  322.75\n",
       "2020-04-01  186.55\n",
       "2018-04-02  246.15\n",
       "...            ...\n",
       "2016-09-29  247.25\n",
       "2017-09-29  253.85\n",
       "2015-09-30  237.15\n",
       "2016-09-30  251.25\n",
       "2019-09-30  270.80\n",
       "\n",
       "[1385 rows x 1 columns]"
      ]
     },
     "execution_count": 79,
     "metadata": {},
     "output_type": "execute_result"
    }
   ],
   "source": [
    "data"
   ]
  },
  {
   "cell_type": "code",
   "execution_count": 80,
   "id": "dcd72866",
   "metadata": {},
   "outputs": [],
   "source": [
    "y=data.Price"
   ]
  },
  {
   "cell_type": "code",
   "execution_count": 81,
   "id": "acf9f64f",
   "metadata": {},
   "outputs": [
    {
     "data": {
      "text/plain": [
       "pandas.core.series.Series"
      ]
     },
     "execution_count": 81,
     "metadata": {},
     "output_type": "execute_result"
    }
   ],
   "source": [
    "type(y)"
   ]
  },
  {
   "cell_type": "code",
   "execution_count": 82,
   "id": "8c91ea42",
   "metadata": {},
   "outputs": [
    {
     "data": {
      "text/plain": [
       "Date\n",
       "2015-01-04    314.625\n",
       "2015-01-11    304.170\n",
       "2015-01-18    310.530\n",
       "2015-01-25    321.920\n",
       "2015-02-01    325.150\n",
       "               ...   \n",
       "2020-07-12    192.650\n",
       "2020-07-19    187.400\n",
       "2020-07-26    193.470\n",
       "2020-08-02    189.160\n",
       "2020-08-09    191.380\n",
       "Freq: W-SUN, Name: Price, Length: 293, dtype: float64"
      ]
     },
     "execution_count": 82,
     "metadata": {},
     "output_type": "execute_result"
    }
   ],
   "source": [
    "train=data['Price'].resample('w').mean()\n",
    "train"
   ]
  },
  {
   "cell_type": "markdown",
   "id": "5bfd010d",
   "metadata": {},
   "source": [
    "# Q2\n",
    "# bCheck Stationarity with:\n",
    "# ADF Test\n"
   ]
  },
  {
   "cell_type": "code",
   "execution_count": 83,
   "id": "33b1ba3a",
   "metadata": {},
   "outputs": [
    {
     "data": {
      "text/plain": [
       "<AxesSubplot:xlabel='Date'>"
      ]
     },
     "execution_count": 83,
     "metadata": {},
     "output_type": "execute_result"
    },
    {
     "data": {
      "text/plain": [
       "<Figure size 1440x576 with 0 Axes>"
      ]
     },
     "metadata": {},
     "output_type": "display_data"
    },
    {
     "data": {
      "image/png": "[encoded data removed]",
      "text/plain": [
       "<Figure size 432x288 with 1 Axes>"
      ]
     },
     "metadata": {
      "needs_background": "light"
     },
     "output_type": "display_data"
    }
   ],
   "source": [
    "plt.figure(figsize=(20,8))\n",
    "\n",
    "data.plot()"
   ]
  },
  {
   "cell_type": "code",
   "execution_count": 84,
   "id": "5a2419f3",
   "metadata": {},
   "outputs": [],
   "source": [
    "from statsmodels.tsa.stattools import adfuller"
   ]
  },
  {
   "cell_type": "code",
   "execution_count": 85,
   "id": "c69e79e6",
   "metadata": {},
   "outputs": [
    {
     "data": {
      "text/plain": [
       "(-2.4801407285592534,\n",
       " 0.12038137232289131,\n",
       " 1,\n",
       " 291,\n",
       " {'1%': -3.4530232710482367,\n",
       "  '5%': -2.871523926671883,\n",
       "  '10%': -2.5720897694878424},\n",
       " 2072.8686693141253)"
      ]
     },
     "execution_count": 85,
     "metadata": {},
     "output_type": "execute_result"
    }
   ],
   "source": [
    "adfuller(train)"
   ]
  },
  {
   "cell_type": "code",
   "execution_count": 86,
   "id": "896e9528",
   "metadata": {},
   "outputs": [
    {
     "data": {
      "text/plain": [
       "(-2.4955176916697797,\n",
       " 0.11656873141815,\n",
       " 2,\n",
       " 290,\n",
       " {'1%': -3.453102162983312,\n",
       "  '5%': -2.871558538275452,\n",
       "  '10%': -2.5721082282996433},\n",
       " -988.7920798885903)"
      ]
     },
     "execution_count": 86,
     "metadata": {},
     "output_type": "execute_result"
    }
   ],
   "source": [
    "adfuller(np.log(train))"
   ]
  },
  {
   "cell_type": "code",
   "execution_count": 87,
   "id": "38eefb39",
   "metadata": {},
   "outputs": [],
   "source": [
    "from statsmodels.tsa.seasonal import seasonal_decompose  # Decomposition"
   ]
  },
  {
   "cell_type": "code",
   "execution_count": 88,
   "id": "07a0d50b",
   "metadata": {},
   "outputs": [],
   "source": [
    "decompose = seasonal_decompose(train, model='multiplicative', two_sided=False, extrapolate_trend=4)"
   ]
  },
  {
   "cell_type": "code",
   "execution_count": 89,
   "id": "05ae027d",
   "metadata": {},
   "outputs": [
    {
     "data": {
      "image/png": "[encoded data removed]",
      "text/plain": [
       "<Figure size 432x288 with 4 Axes>"
      ]
     },
     "execution_count": 89,
     "metadata": {},
     "output_type": "execute_result"
    },
    {
     "data": {
      "image/png": "[encoded data removed]",
      "text/plain": [
       "<Figure size 432x288 with 4 Axes>"
      ]
     },
     "metadata": {
      "needs_background": "light"
     },
     "output_type": "display_data"
    }
   ],
   "source": [
    "decompose.plot()"
   ]
  },
  {
   "cell_type": "code",
   "execution_count": 90,
   "id": "cd927055",
   "metadata": {},
   "outputs": [
    {
     "data": {
      "text/html": [
       "<div>\n",
       "<style scoped>\n",
       "    .dataframe tbody tr th:only-of-type {\n",
       "        vertical-align: middle;\n",
       "    }\n",
       "\n",
       "    .dataframe tbody tr th {\n",
       "        vertical-align: top;\n",
       "    }\n",
       "\n",
       "    .dataframe thead th {\n",
       "        text-align: right;\n",
       "    }\n",
       "</style>\n",
       "<table border=\"1\" class=\"dataframe\">\n",
       "  <thead>\n",
       "    <tr style=\"text-align: right;\">\n",
       "      <th></th>\n",
       "      <th>seasonal</th>\n",
       "      <th>trend</th>\n",
       "      <th>resid</th>\n",
       "      <th>Price</th>\n",
       "    </tr>\n",
       "    <tr>\n",
       "      <th>Date</th>\n",
       "      <th></th>\n",
       "      <th></th>\n",
       "      <th></th>\n",
       "      <th></th>\n",
       "    </tr>\n",
       "  </thead>\n",
       "  <tbody>\n",
       "    <tr>\n",
       "      <th>2015-01-04</th>\n",
       "      <td>1.043082</td>\n",
       "      <td>382.099080</td>\n",
       "      <td>0.789403</td>\n",
       "      <td>314.625</td>\n",
       "    </tr>\n",
       "    <tr>\n",
       "      <th>2015-01-11</th>\n",
       "      <td>1.026566</td>\n",
       "      <td>379.888186</td>\n",
       "      <td>0.779963</td>\n",
       "      <td>304.170</td>\n",
       "    </tr>\n",
       "    <tr>\n",
       "      <th>2015-01-18</th>\n",
       "      <td>1.019122</td>\n",
       "      <td>377.677292</td>\n",
       "      <td>0.806783</td>\n",
       "      <td>310.530</td>\n",
       "    </tr>\n",
       "    <tr>\n",
       "      <th>2015-01-25</th>\n",
       "      <td>1.016217</td>\n",
       "      <td>375.466397</td>\n",
       "      <td>0.843705</td>\n",
       "      <td>321.920</td>\n",
       "    </tr>\n",
       "    <tr>\n",
       "      <th>2015-02-01</th>\n",
       "      <td>1.019660</td>\n",
       "      <td>373.255503</td>\n",
       "      <td>0.854323</td>\n",
       "      <td>325.150</td>\n",
       "    </tr>\n",
       "    <tr>\n",
       "      <th>...</th>\n",
       "      <td>...</td>\n",
       "      <td>...</td>\n",
       "      <td>...</td>\n",
       "      <td>...</td>\n",
       "    </tr>\n",
       "    <tr>\n",
       "      <th>2020-07-12</th>\n",
       "      <td>1.007053</td>\n",
       "      <td>266.320946</td>\n",
       "      <td>0.718309</td>\n",
       "      <td>192.650</td>\n",
       "    </tr>\n",
       "    <tr>\n",
       "      <th>2020-07-19</th>\n",
       "      <td>1.005820</td>\n",
       "      <td>263.028638</td>\n",
       "      <td>0.708348</td>\n",
       "      <td>187.400</td>\n",
       "    </tr>\n",
       "    <tr>\n",
       "      <th>2020-07-26</th>\n",
       "      <td>1.011126</td>\n",
       "      <td>259.896619</td>\n",
       "      <td>0.736220</td>\n",
       "      <td>193.470</td>\n",
       "    </tr>\n",
       "    <tr>\n",
       "      <th>2020-08-02</th>\n",
       "      <td>1.031874</td>\n",
       "      <td>257.141715</td>\n",
       "      <td>0.712903</td>\n",
       "      <td>189.160</td>\n",
       "    </tr>\n",
       "    <tr>\n",
       "      <th>2020-08-09</th>\n",
       "      <td>1.015599</td>\n",
       "      <td>254.826907</td>\n",
       "      <td>0.739484</td>\n",
       "      <td>191.380</td>\n",
       "    </tr>\n",
       "  </tbody>\n",
       "</table>\n",
       "<p>293 rows × 4 columns</p>\n",
       "</div>"
      ],
      "text/plain": [
       "            seasonal       trend     resid    Price\n",
       "Date                                               \n",
       "2015-01-04  1.043082  382.099080  0.789403  314.625\n",
       "2015-01-11  1.026566  379.888186  0.779963  304.170\n",
       "2015-01-18  1.019122  377.677292  0.806783  310.530\n",
       "2015-01-25  1.016217  375.466397  0.843705  321.920\n",
       "2015-02-01  1.019660  373.255503  0.854323  325.150\n",
       "...              ...         ...       ...      ...\n",
       "2020-07-12  1.007053  266.320946  0.718309  192.650\n",
       "2020-07-19  1.005820  263.028638  0.708348  187.400\n",
       "2020-07-26  1.011126  259.896619  0.736220  193.470\n",
       "2020-08-02  1.031874  257.141715  0.712903  189.160\n",
       "2020-08-09  1.015599  254.826907  0.739484  191.380\n",
       "\n",
       "[293 rows x 4 columns]"
      ]
     },
     "execution_count": 90,
     "metadata": {},
     "output_type": "execute_result"
    }
   ],
   "source": [
    "pd.DataFrame([decompose.seasonal, decompose.trend, decompose.resid, decompose.observed]).T"
   ]
  },
  {
   "cell_type": "code",
   "execution_count": 91,
   "id": "812f7498",
   "metadata": {},
   "outputs": [
    {
     "data": {
      "text/plain": [
       "Date\n",
       "2020-06-07    175.41\n",
       "2020-06-14    183.05\n",
       "2020-06-21    176.74\n",
       "2020-06-28    186.92\n",
       "2020-07-05    182.53\n",
       "2020-07-12    192.65\n",
       "2020-07-19    187.40\n",
       "2020-07-26    193.47\n",
       "2020-08-02    189.16\n",
       "2020-08-09    191.38\n",
       "Freq: W-SUN, Name: Price, dtype: float64"
      ]
     },
     "execution_count": 91,
     "metadata": {},
     "output_type": "execute_result"
    }
   ],
   "source": [
    "train.tail(10)"
   ]
  },
  {
   "cell_type": "code",
   "execution_count": 92,
   "id": "ab0dea36",
   "metadata": {},
   "outputs": [],
   "source": [
    "train_1 = train[:'2020-03-29']\n",
    "test = train['2020-03-22':]"
   ]
  },
  {
   "cell_type": "code",
   "execution_count": 93,
   "id": "888c7b70",
   "metadata": {},
   "outputs": [
    {
     "data": {
      "text/plain": [
       "Date\n",
       "2015-01-04    314.6250\n",
       "2015-01-11    304.1700\n",
       "2015-01-18    310.5300\n",
       "2015-01-25    321.9200\n",
       "2015-02-01    325.1500\n",
       "                ...   \n",
       "2020-03-01    320.5800\n",
       "2020-03-08    284.3100\n",
       "2020-03-15    238.2875\n",
       "2020-03-22    213.4400\n",
       "2020-03-29    188.6800\n",
       "Freq: W-SUN, Name: Price, Length: 274, dtype: float64"
      ]
     },
     "execution_count": 93,
     "metadata": {},
     "output_type": "execute_result"
    }
   ],
   "source": [
    "train_1"
   ]
  },
  {
   "cell_type": "code",
   "execution_count": 94,
   "id": "c6ff7cb9",
   "metadata": {},
   "outputs": [
    {
     "data": {
      "text/plain": [
       "Date\n",
       "2020-03-22    213.440000\n",
       "2020-03-29    188.680000\n",
       "2020-04-05    186.450000\n",
       "2020-04-12    185.716667\n",
       "2020-04-19    186.900000\n",
       "2020-04-26    186.480000\n",
       "2020-05-03    186.450000\n",
       "2020-05-10    171.550000\n",
       "2020-05-17    168.160000\n",
       "2020-05-24    152.860000\n",
       "2020-05-31    157.375000\n",
       "2020-06-07    175.410000\n",
       "2020-06-14    183.050000\n",
       "2020-06-21    176.740000\n",
       "2020-06-28    186.920000\n",
       "2020-07-05    182.530000\n",
       "2020-07-12    192.650000\n",
       "2020-07-19    187.400000\n",
       "2020-07-26    193.470000\n",
       "2020-08-02    189.160000\n",
       "2020-08-09    191.380000\n",
       "Freq: W-SUN, Name: Price, dtype: float64"
      ]
     },
     "execution_count": 94,
     "metadata": {},
     "output_type": "execute_result"
    }
   ],
   "source": [
    "test"
   ]
  },
  {
   "cell_type": "code",
   "execution_count": 95,
   "id": "644b9258",
   "metadata": {},
   "outputs": [],
   "source": [
    "log_train = np.log(train_1)\n"
   ]
  },
  {
   "cell_type": "code",
   "execution_count": 96,
   "id": "818247cc",
   "metadata": {},
   "outputs": [
    {
     "data": {
      "text/plain": [
       "Date\n",
       "2015-01-04    5.751381\n",
       "2015-01-11    5.717587\n",
       "2015-01-18    5.738281\n",
       "2015-01-25    5.774303\n",
       "2015-02-01    5.784287\n",
       "                ...   \n",
       "2020-03-01    5.770132\n",
       "2020-03-08    5.650065\n",
       "2020-03-15    5.473478\n",
       "2020-03-22    5.363356\n",
       "2020-03-29    5.240052\n",
       "Freq: W-SUN, Name: Price, Length: 274, dtype: float64"
      ]
     },
     "execution_count": 96,
     "metadata": {},
     "output_type": "execute_result"
    }
   ],
   "source": [
    "log_train"
   ]
  },
  {
   "cell_type": "code",
   "execution_count": 97,
   "id": "18860736",
   "metadata": {},
   "outputs": [],
   "source": [
    "log_test = np.log(test)"
   ]
  },
  {
   "cell_type": "code",
   "execution_count": 98,
   "id": "1e8f8c27",
   "metadata": {},
   "outputs": [
    {
     "data": {
      "text/plain": [
       "Date\n",
       "2020-03-22    5.363356\n",
       "2020-03-29    5.240052\n",
       "2020-04-05    5.228163\n",
       "2020-04-12    5.224222\n",
       "2020-04-19    5.230574\n",
       "2020-04-26    5.228324\n",
       "2020-05-03    5.228163\n",
       "2020-05-10    5.144875\n",
       "2020-05-17    5.124916\n",
       "2020-05-24    5.029522\n",
       "2020-05-31    5.058631\n",
       "2020-06-07    5.167126\n",
       "2020-06-14    5.209759\n",
       "2020-06-21    5.174680\n",
       "2020-06-28    5.230681\n",
       "2020-07-05    5.206915\n",
       "2020-07-12    5.260875\n",
       "2020-07-19    5.233245\n",
       "2020-07-26    5.265122\n",
       "2020-08-02    5.242593\n",
       "2020-08-09    5.254261\n",
       "Freq: W-SUN, Name: Price, dtype: float64"
      ]
     },
     "execution_count": 98,
     "metadata": {},
     "output_type": "execute_result"
    }
   ],
   "source": [
    "log_test"
   ]
  },
  {
   "cell_type": "code",
   "execution_count": 99,
   "id": "0975ff79",
   "metadata": {},
   "outputs": [],
   "source": [
    "import sys\n",
    "import itertools\n",
    "import warnings\n",
    "\n",
    "def auto_arima(timeseries, regressors=None, p=range(0, 2), d=range(0, 2), q=range(0, 2),\n",
    "              P=range(0, 2), D=range(0, 1), Q=range(0, 2)):\n",
    "\n",
    "    # Generate all different combinations of p, d and q triplets\n",
    "    pdq = list(itertools.product(p, d, q))\n",
    "\n",
    "    # Generate all different combinations of seasonal p, q and q triplets\n",
    "    seasonal_pdq = [(x[0], x[1], x[2], 12) for x in list(itertools.product(P, D, Q))]\n",
    "    \n",
    "    warnings.filterwarnings(\"ignore\") # specify to ignore warning messages\n",
    "\n",
    "    best_aic = np.inf\n",
    "    best_pdq = None\n",
    "    best_seasonal_pdq = None\n",
    "    best_results = None\n",
    "    \n",
    "    for param in pdq:\n",
    "        for param_seasonal in seasonal_pdq:\n",
    "\n",
    "            try:\n",
    "                temp_model = sm.tsa.statespace.SARIMAX(endog=timeseries,\n",
    "                                                 exog=regressors,\n",
    "                                                 order = param,\n",
    "                                                 seasonal_order = param_seasonal,\n",
    "                                                 enforce_stationarity=False,\n",
    "                                                 enforce_invertibility=False)\n",
    "                temp_results = temp_model.fit()\n",
    "\n",
    "                print(\"SARIMAX{}x{}12 - AIC:{}\".format(param, param_seasonal, temp_results.aic))\n",
    "                \n",
    "                if temp_results.aic < best_aic:\n",
    "                    best_aic = temp_results.aic\n",
    "                    best_pdq = param\n",
    "                    best_seasonal_pdq = param_seasonal\n",
    "                    best_results = temp_results\n",
    "                \n",
    "            except:\n",
    "                #print(\"Unexpected error:\", sys.exc_info()[0])\n",
    "                continue\n",
    "    print(\"Best SARIMAX{}x{}12 model - AIC:{}\".format(best_pdq, best_seasonal_pdq, best_aic))\n",
    "    print(best_results.summary().tables[0])\n",
    "    print(best_results.summary().tables[1])\n",
    "    #return best_results"
   ]
  },
  {
   "cell_type": "code",
   "execution_count": 100,
   "id": "462d26ff",
   "metadata": {},
   "outputs": [
    {
     "name": "stdout",
     "output_type": "stream",
     "text": [
      "Best SARIMAXNonexNone12 model - AIC:inf\n"
     ]
    },
    {
     "ename": "AttributeError",
     "evalue": "'NoneType' object has no attribute 'summary'",
     "output_type": "error",
     "traceback": [
      "\u001b[1;31m---------------------------------------------------------------------------\u001b[0m",
      "\u001b[1;31mAttributeError\u001b[0m                            Traceback (most recent call last)",
      "\u001b[1;32m<ipython-input-100-46dfd368f1bc>\u001b[0m in \u001b[0;36m<module>\u001b[1;34m\u001b[0m\n\u001b[1;32m----> 1\u001b[1;33m best_results = auto_arima(log_train_1,  p=range(0, 3), d=range(1,5), q=range(0, 3),\n\u001b[0m\u001b[0;32m      2\u001b[0m                          P=range(0, 2), D=range(0, 2), Q=range(0, 2))\n",
      "\u001b[1;32m<ipython-input-99-95cf82fa6843>\u001b[0m in \u001b[0;36mauto_arima\u001b[1;34m(timeseries, regressors, p, d, q, P, D, Q)\u001b[0m\n\u001b[0;32m     43\u001b[0m                 \u001b[1;32mcontinue\u001b[0m\u001b[1;33m\u001b[0m\u001b[1;33m\u001b[0m\u001b[0m\n\u001b[0;32m     44\u001b[0m     \u001b[0mprint\u001b[0m\u001b[1;33m(\u001b[0m\u001b[1;34m\"Best SARIMAX{}x{}12 model - AIC:{}\"\u001b[0m\u001b[1;33m.\u001b[0m\u001b[0mformat\u001b[0m\u001b[1;33m(\u001b[0m\u001b[0mbest_pdq\u001b[0m\u001b[1;33m,\u001b[0m \u001b[0mbest_seasonal_pdq\u001b[0m\u001b[1;33m,\u001b[0m \u001b[0mbest_aic\u001b[0m\u001b[1;33m)\u001b[0m\u001b[1;33m)\u001b[0m\u001b[1;33m\u001b[0m\u001b[1;33m\u001b[0m\u001b[0m\n\u001b[1;32m---> 45\u001b[1;33m     \u001b[0mprint\u001b[0m\u001b[1;33m(\u001b[0m\u001b[0mbest_results\u001b[0m\u001b[1;33m.\u001b[0m\u001b[0msummary\u001b[0m\u001b[1;33m(\u001b[0m\u001b[1;33m)\u001b[0m\u001b[1;33m.\u001b[0m\u001b[0mtables\u001b[0m\u001b[1;33m[\u001b[0m\u001b[1;36m0\u001b[0m\u001b[1;33m]\u001b[0m\u001b[1;33m)\u001b[0m\u001b[1;33m\u001b[0m\u001b[1;33m\u001b[0m\u001b[0m\n\u001b[0m\u001b[0;32m     46\u001b[0m     \u001b[0mprint\u001b[0m\u001b[1;33m(\u001b[0m\u001b[0mbest_results\u001b[0m\u001b[1;33m.\u001b[0m\u001b[0msummary\u001b[0m\u001b[1;33m(\u001b[0m\u001b[1;33m)\u001b[0m\u001b[1;33m.\u001b[0m\u001b[0mtables\u001b[0m\u001b[1;33m[\u001b[0m\u001b[1;36m1\u001b[0m\u001b[1;33m]\u001b[0m\u001b[1;33m)\u001b[0m\u001b[1;33m\u001b[0m\u001b[1;33m\u001b[0m\u001b[0m\n\u001b[0;32m     47\u001b[0m     \u001b[1;31m#return best_results\u001b[0m\u001b[1;33m\u001b[0m\u001b[1;33m\u001b[0m\u001b[1;33m\u001b[0m\u001b[0m\n",
      "\u001b[1;31mAttributeError\u001b[0m: 'NoneType' object has no attribute 'summary'"
     ]
    }
   ],
   "source": [
    "best_results = auto_arima(log_train_1,  p=range(0, 3), d=range(1,5), q=range(0, 3),\n",
    "                         P=range(0, 2), D=range(0, 2), Q=range(0, 2))"
   ]
  },
  {
   "cell_type": "code",
   "execution_count": null,
   "id": "64cd742b",
   "metadata": {},
   "outputs": [],
   "source": []
  }
 ],
 "metadata": {
  "kernelspec": {
   "display_name": "Python 3",
   "language": "python",
   "name": "python3"
  },
  "language_info": {
   "codemirror_mode": {
    "name": "ipython",
    "version": 3
   },
   "file_extension": ".py",
   "mimetype": "text/x-python",
   "name": "python",
   "nbconvert_exporter": "python",
   "pygments_lexer": "ipython3",
   "version": "3.8.8"
  }
 },
 "nbformat": 4,
 "nbformat_minor": 5
}
